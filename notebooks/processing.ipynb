{
 "cells": [
  {
   "cell_type": "code",
   "execution_count": null,
   "metadata": {
    "application/vnd.databricks.v1+cell": {
     "cellMetadata": {
      "byteLimit": 2048000,
      "rowLimit": 10000
     },
     "inputWidgets": {},
     "nuid": "07fc01ea-48d7-46af-8321-fb020230b00b",
     "showTitle": false,
     "tableResultSettingsMap": {},
     "title": ""
    }
   },
   "outputs": [],
   "source": [
    "import os\n",
    "from pyspark import StorageLevel\n",
    "from pyspark.sql.functions import *\n",
    "from pyspark.sql.types import *\n",
    "from pyspark.sql.window import Window"
   ]
  },
  {
   "cell_type": "code",
   "execution_count": null,
   "metadata": {
    "application/vnd.databricks.v1+cell": {
     "cellMetadata": {
      "byteLimit": 2048000,
      "rowLimit": 10000
     },
     "inputWidgets": {},
     "nuid": "6026f3b4-10af-4e93-8bb0-dc8673e10525",
     "showTitle": true,
     "tableResultSettingsMap": {},
     "title": "Reading file from S3"
    }
   },
   "outputs": [],
   "source": [
    "animal_df = (\n",
    "    spark.read.format(\"csv\")\n",
    "    .option(\"inferSchema\", \"true\")\n",
    "    .option(\"header\", \"true\")\n",
    "    .option(\"mode\", \"FAILFAST\")\n",
    "    .load(\"s3://animal-center/stage/animal-center-raw.csv\")\n",
    ")"
   ]
  },
  {
   "cell_type": "code",
   "execution_count": null,
   "metadata": {
    "application/vnd.databricks.v1+cell": {
     "cellMetadata": {
      "byteLimit": 2048000,
      "rowLimit": 10000
     },
     "inputWidgets": {},
     "nuid": "484b7ba9-5aeb-45b0-b5a8-ed55440d5aae",
     "showTitle": false,
     "tableResultSettingsMap": {},
     "title": ""
    }
   },
   "outputs": [
    {
     "name": "stdout",
     "output_type": "stream",
     "text": [
      "Out[523]: DataFrame[Animal ID: string, Name: string, DateTime: string, MonthYear: string, Found Location: string, Intake Type: string, Intake Condition: string, Animal Type: string, Sex upon Intake: string, Age upon Intake: string, Breed: string, Color: string]"
     ]
    }
   ],
   "source": [
    "animal_df.persist(storageLevel=StorageLevel.MEMORY_ONLY)"
   ]
  },
  {
   "cell_type": "code",
   "execution_count": null,
   "metadata": {
    "application/vnd.databricks.v1+cell": {
     "cellMetadata": {
      "byteLimit": 2048000,
      "rowLimit": 10000
     },
     "inputWidgets": {},
     "nuid": "8900bacf-0973-4a4c-9136-f457be81af65",
     "showTitle": true,
     "tableResultSettingsMap": {},
     "title": "Dropping dupliacates"
    }
   },
   "outputs": [],
   "source": [
    "animal_df = animal_df.dropDuplicates()"
   ]
  },
  {
   "cell_type": "code",
   "execution_count": null,
   "metadata": {
    "application/vnd.databricks.v1+cell": {
     "cellMetadata": {
      "byteLimit": 2048000,
      "rowLimit": 10000
     },
     "inputWidgets": {},
     "nuid": "88c2740b-bba4-4798-ac6c-2fa9b043fc8b",
     "showTitle": false,
     "tableResultSettingsMap": {},
     "title": ""
    }
   },
   "outputs": [],
   "source": [
    "animal_df = (\n",
    "    animal_df\n",
    "    .withColumnRenamed(\"Animal ID\", \"animal_id\")\n",
    "    .withColumnRenamed(\"Name\", \"name\")\n",
    "    .withColumnRenamed(\"DateTime\", \"datetime\")\n",
    "    .withColumnRenamed(\"Found Location\", \"found_location\")\n",
    "    .withColumnRenamed(\"Intake Type\", \"intake_type\")\n",
    "    .withColumnRenamed(\"Intake Condition\", \"intake_condition\")\n",
    "    .withColumnRenamed(\"Animal Type\", \"animal_type\")\n",
    "    .withColumnRenamed(\"Sex upon Intake\", \"gender_upon_intake\")\n",
    "    .withColumnRenamed(\"Age upon Intake\", \"age_upon_intake\")\n",
    "    .withColumnRenamed(\"Breed\", \"breed\")\n",
    "    .withColumnRenamed(\"Color\", \"color\")\n",
    ")"
   ]
  },
  {
   "cell_type": "code",
   "execution_count": null,
   "metadata": {
    "application/vnd.databricks.v1+cell": {
     "cellMetadata": {
      "byteLimit": 2048000,
      "rowLimit": 10000
     },
     "inputWidgets": {},
     "nuid": "fed58536-7bca-4370-ac46-e7f4ebc41be3",
     "showTitle": true,
     "tableResultSettingsMap": {},
     "title": "name preprocessing"
    }
   },
   "outputs": [],
   "source": [
    "animal_df = animal_df.na.fill({\"name\": \"dummy-name\"})"
   ]
  },
  {
   "cell_type": "code",
   "execution_count": null,
   "metadata": {
    "application/vnd.databricks.v1+cell": {
     "cellMetadata": {
      "byteLimit": 2048000,
      "rowLimit": 10000
     },
     "inputWidgets": {},
     "nuid": "fd5978fe-31b5-44cd-ad8b-67877e5455b7",
     "showTitle": true,
     "tableResultSettingsMap": {},
     "title": "preprocessing names"
    }
   },
   "outputs": [],
   "source": [
    "def remove_star(name):\n",
    "    if name and '*' in name:\n",
    "        return name[1:]\n",
    "    return name\n",
    "  \n",
    "remove_star_udf = udf(remove_star, StringType())\n",
    "animal_df = animal_df.withColumn(\"name\", remove_star_udf(col(\"name\")))"
   ]
  },
  {
   "cell_type": "code",
   "execution_count": null,
   "metadata": {
    "application/vnd.databricks.v1+cell": {
     "cellMetadata": {
      "byteLimit": 2048000,
      "rowLimit": 10000
     },
     "inputWidgets": {},
     "nuid": "aa02645a-11f7-4435-933f-3d1b249097db",
     "showTitle": true,
     "tableResultSettingsMap": {},
     "title": "preprocessing datetime"
    }
   },
   "outputs": [],
   "source": [
    "animal_df = animal_df.withColumn(\"datetime\", \n",
    "    to_timestamp(col(\"datetime\"), \"MM/dd/yyyy hh:mm:ss a\")\n",
    ")"
   ]
  },
  {
   "cell_type": "code",
   "execution_count": null,
   "metadata": {
    "application/vnd.databricks.v1+cell": {
     "cellMetadata": {
      "byteLimit": 2048000,
      "rowLimit": 10000
     },
     "inputWidgets": {},
     "nuid": "6bc9df60-a2fd-4ed0-9d27-c29574458063",
     "showTitle": true,
     "tableResultSettingsMap": {},
     "title": "processing age on intake"
    }
   },
   "outputs": [],
   "source": [
    "def convert_to_days(age_string):\n",
    "    total_days = 0\n",
    "    parts = age_string.split()\n",
    "    \n",
    "    for age in range(0, len(parts), 2):\n",
    "        if age + 1 >= len(parts):\n",
    "            break\n",
    "            \n",
    "        number = int(parts[age])\n",
    "        unit = parts[age + 1].lower().rstrip('s')\n",
    "        \n",
    "        if unit == 'year':\n",
    "            total_days += number * 365\n",
    "        elif unit == 'month':\n",
    "            total_days += number * 30\n",
    "        elif unit == 'week':\n",
    "            total_days += number * 7\n",
    "        elif unit == 'day':\n",
    "            total_days += number\n",
    "            \n",
    "    return total_days\n",
    "\n",
    "convert_age_udf = udf(convert_to_days, IntegerType())\n",
    "\n",
    "animal_df = (\n",
    "  animal_df\n",
    "  .withColumn(\"age_days\", convert_age_udf(col(\"age_upon_intake\")))\n",
    "  .withColumn(\"age(in years)\", round((col(\"age_days\") / 365), 2))\n",
    "  .drop(\"age_upon_intake\", \"MonthYear\")\n",
    ")"
   ]
  },
  {
   "cell_type": "code",
   "execution_count": null,
   "metadata": {
    "application/vnd.databricks.v1+cell": {
     "cellMetadata": {
      "byteLimit": 2048000,
      "rowLimit": 10000
     },
     "inputWidgets": {},
     "nuid": "d657907f-21f9-4b54-88b2-4ee886b23e35",
     "showTitle": true,
     "tableResultSettingsMap": {},
     "title": "Task 3 - adding the age category"
    }
   },
   "outputs": [],
   "source": [
    "animal_df = animal_df.withColumn(\n",
    "  \"age_days\",\n",
    "  when(col(\"age_days\") < 0, col(\"age_days\") * -1)\n",
    "  .otherwise(col(\"age_days\"))\n",
    ")\n",
    "\n",
    "animal_df = animal_df.withColumn(\n",
    "    \"age_category\",\n",
    "    when(col(\"age_days\") <= 365, \"Puppy/Kitten\")\n",
    "    .when(col(\"age_days\") <= 365 * 7, \"Adult\")\n",
    "    .otherwise(\"Senior\"),\n",
    ").drop(\"age_days\")"
   ]
  },
  {
   "cell_type": "code",
   "execution_count": null,
   "metadata": {
    "application/vnd.databricks.v1+cell": {
     "cellMetadata": {
      "byteLimit": 2048000,
      "rowLimit": 10000
     },
     "inputWidgets": {},
     "nuid": "0b3f0374-e02d-4e34-9adb-a03aaa49b7a9",
     "showTitle": true,
     "tableResultSettingsMap": {},
     "title": "uploading data to RDS"
    }
   },
   "outputs": [],
   "source": [
    "jdbc_url = \"jdbc:mysql://austin-animal-center-db.cf20yui40eho.ap-south-1.rds.amazonaws.com:3306/austin_animal_center\"\n",
    "\n",
    "connection_properties = {\n",
    "    \"user\": \"anirudhone\",\n",
    "    \"password\": \"anirudh07\",\n",
    "    \"batchsize\": \"10000\",                    \n",
    "    \"rewriteBatchedStatements\": \"true\",    \n",
    "    \"useServerPrepStmts\": \"true\",            \n",
    "    \"cachePrepStmts\": \"true\",                \n",
    "    \"useCompression\": \"true\",                \n",
    "    \"socketTimeout\": \"60000\",               \n",
    "    \"autoReconnect\": \"true\",                 \n",
    "    \"useSSL\": \"false\",                       \n",
    "    \"verifyServerCertificate\": \"false\",\n",
    "}\n",
    "\n",
    "animal_df.write \\\n",
    "    .mode(\"overwrite\") \\\n",
    "    .option(\"numPartitions\", 10) \\\n",
    "    .option(\"partitionColumn\", \"age(in years)\") \\\n",
    "    .option(\"lowerBound\", \"1\") \\\n",
    "    .option(\"upperBound\", \"100000\") \\\n",
    "    .jdbc(\n",
    "        url=jdbc_url,\n",
    "        table=\"animals\",\n",
    "        properties=connection_properties\n",
    "    )"
   ]
  },
  {
   "cell_type": "code",
   "execution_count": null,
   "metadata": {
    "application/vnd.databricks.v1+cell": {
     "cellMetadata": {
      "byteLimit": 2048000,
      "rowLimit": 10000
     },
     "inputWidgets": {},
     "nuid": "b3ca0e74-5d8a-4da8-b1db-947e5981ca71",
     "showTitle": true,
     "tableResultSettingsMap": {},
     "title": "upload data to S3"
    }
   },
   "outputs": [],
   "source": [
    "(\n",
    "  animal_df.coalesce(1).write\n",
    "  .format(\"csv\")\n",
    "  .option(\"header\",\"true\") \n",
    "  .save(\"s3://animal-center/curated\", mode=\"overwrite\")\n",
    ")"
   ]
  }
 ],
 "metadata": {
  "application/vnd.databricks.v1+notebook": {
   "dashboards": [],
   "environmentMetadata": null,
   "language": "python",
   "notebookMetadata": {
    "pythonIndentUnit": 2
   },
   "notebookName": "austin-animal-center-preprocessing",
   "widgets": {}
  },
  "kernelspec": {
   "display_name": "Python 3 (ipykernel)",
   "language": "python",
   "name": "python3"
  },
  "language_info": {
   "codemirror_mode": {
    "name": "ipython",
    "version": 3
   },
   "file_extension": ".py",
   "mimetype": "text/x-python",
   "name": "python",
   "nbconvert_exporter": "python",
   "pygments_lexer": "ipython3",
   "version": "3.12.3"
  }
 },
 "nbformat": 4,
 "nbformat_minor": 4
}
